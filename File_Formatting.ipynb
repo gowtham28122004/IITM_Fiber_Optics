{
  "cells": [
    {
      "cell_type": "code",
      "execution_count": null,
      "metadata": {
        "colab": {
          "base_uri": "https://localhost:8080/"
        },
        "id": "2IHJWwbLu6si",
        "outputId": "c4c24f97-1cf6-4e9d-d696-736b647f91a0"
      },
      "outputs": [
        {
          "output_type": "stream",
          "name": "stdout",
          "text": [
            "Mounted at /content/drive\n"
          ]
        }
      ],
      "source": [
        "from google.colab import drive\n",
        "drive.mount('/content/drive')"
      ]
    },
    {
      "cell_type": "code",
      "source": [
        "!pip install natsort"
      ],
      "metadata": {
        "colab": {
          "base_uri": "https://localhost:8080/"
        },
        "id": "37_Mdt0oH7i6",
        "outputId": "6d163581-cca8-4de1-a27c-cc3640401cb5"
      },
      "execution_count": null,
      "outputs": [
        {
          "output_type": "stream",
          "name": "stdout",
          "text": [
            "Collecting natsort\n",
            "  Downloading natsort-8.4.0-py3-none-any.whl.metadata (21 kB)\n",
            "Downloading natsort-8.4.0-py3-none-any.whl (38 kB)\n",
            "Installing collected packages: natsort\n",
            "Successfully installed natsort-8.4.0\n"
          ]
        }
      ]
    },
    {
      "cell_type": "code",
      "execution_count": null,
      "metadata": {
        "id": "atjQtJ-aNdkI"
      },
      "outputs": [],
      "source": [
        "import os\n",
        "import numpy as np\n",
        "from natsort import natsorted"
      ]
    },
    {
      "cell_type": "code",
      "execution_count": null,
      "metadata": {
        "id": "eEmSvjFCNipc"
      },
      "outputs": [],
      "source": [
        "# Directory containing chunked .npy files\n",
        "data_dir = \"/content/drive/MyDrive/data_chunks\"\n",
        "output_dir = \"/content/drive/MyDrive/processed_chunks\""
      ]
    },
    {
      "cell_type": "code",
      "execution_count": null,
      "metadata": {
        "id": "SgWph5OcciAk"
      },
      "outputs": [],
      "source": [
        "# Create output directory if it doesn’t exist\n",
        "os.makedirs(output_dir, exist_ok=True)"
      ]
    },
    {
      "cell_type": "code",
      "execution_count": null,
      "metadata": {
        "id": "649LlIjDcxs1",
        "colab": {
          "base_uri": "https://localhost:8080/",
          "height": 159
        },
        "outputId": "9e5efd79-9b0c-4592-c389-67a43371fea3"
      },
      "outputs": [
        {
          "output_type": "error",
          "ename": "OSError",
          "evalue": "[Errno 5] Input/output error: '/content/drive/MyDrive/data_chunks'",
          "traceback": [
            "\u001b[0;31m---------------------------------------------------------------------------\u001b[0m",
            "\u001b[0;31mOSError\u001b[0m                                   Traceback (most recent call last)",
            "\u001b[0;32m<ipython-input-6-d9796f257148>\u001b[0m in \u001b[0;36m<cell line: 0>\u001b[0;34m()\u001b[0m\n\u001b[1;32m      1\u001b[0m \u001b[0;31m# List all .npy files and sort naturally\u001b[0m\u001b[0;34m\u001b[0m\u001b[0;34m\u001b[0m\u001b[0m\n\u001b[0;32m----> 2\u001b[0;31m \u001b[0mfile_list\u001b[0m \u001b[0;34m=\u001b[0m \u001b[0mnatsorted\u001b[0m\u001b[0;34m(\u001b[0m\u001b[0;34m[\u001b[0m\u001b[0mf\u001b[0m \u001b[0;32mfor\u001b[0m \u001b[0mf\u001b[0m \u001b[0;32min\u001b[0m \u001b[0mos\u001b[0m\u001b[0;34m.\u001b[0m\u001b[0mlistdir\u001b[0m\u001b[0;34m(\u001b[0m\u001b[0mdata_dir\u001b[0m\u001b[0;34m)\u001b[0m \u001b[0;32mif\u001b[0m \u001b[0mf\u001b[0m\u001b[0;34m.\u001b[0m\u001b[0mendswith\u001b[0m\u001b[0;34m(\u001b[0m\u001b[0;34m\".npy\"\u001b[0m\u001b[0;34m)\u001b[0m\u001b[0;34m]\u001b[0m\u001b[0;34m)\u001b[0m\u001b[0;34m\u001b[0m\u001b[0;34m\u001b[0m\u001b[0m\n\u001b[0m",
            "\u001b[0;31mOSError\u001b[0m: [Errno 5] Input/output error: '/content/drive/MyDrive/data_chunks'"
          ]
        }
      ],
      "source": [
        "# List all .npy files and sort naturally\n",
        "file_list = natsorted([f for f in os.listdir(data_dir) if f.endswith(\".npy\")])"
      ]
    },
    {
      "cell_type": "code",
      "execution_count": null,
      "metadata": {
        "id": "7UUGjemWc2ue"
      },
      "outputs": [],
      "source": [
        "# Define batch sizes\n",
        "batch_size = 20000  # Load 20K files at a time\n",
        "merge_group = 4     # Merge every 4 processed files"
      ]
    },
    {
      "cell_type": "code",
      "execution_count": null,
      "metadata": {
        "id": "pI2_r_sHdGUz"
      },
      "outputs": [],
      "source": [
        "processed_files = []\n",
        "temp_storage = []"
      ]
    },
    {
      "cell_type": "code",
      "execution_count": null,
      "metadata": {
        "id": "Bg3NusjsdhJ6"
      },
      "outputs": [],
      "source": [
        "import numpy as np\n",
        "import os\n",
        "import glob\n",
        "from tqdm import tqdm\n",
        "from sklearn.model_selection import train_test_split\n",
        "\n",
        "# ✅ Set Data Path\n",
        "DATA_PATH = \"/content/drive/MyDrive/data_chunks\"\n",
        "SAVE_PATH = \"/content/drive/MyDrive/processed_data\"\n",
        "# os.makedirs(SAVE_PATH, exist_ok=True)\n",
        "\n",
        "# List all .npy files and sort naturally\n",
        "# file_list = natsorted([f for f in os.listdir(data_dir) if f.endswith(\".npy\")])\n"
      ]
    },
    {
      "cell_type": "code",
      "source": [
        "print(f\"📂 Found {len(file_list)} chunk files.\")"
      ],
      "metadata": {
        "colab": {
          "base_uri": "https://localhost:8080/"
        },
        "id": "yrO4kyppNpwP",
        "outputId": "6a04288a-1a95-4979-dc32-2aa749d2bc08"
      },
      "execution_count": null,
      "outputs": [
        {
          "output_type": "stream",
          "name": "stdout",
          "text": [
            "📂 Found 80000 chunk files.\n"
          ]
        }
      ]
    },
    {
      "cell_type": "code",
      "source": [
        "print(\"🔍 Sample file paths:\", file_list[:5])  # Print first 5 files"
      ],
      "metadata": {
        "colab": {
          "base_uri": "https://localhost:8080/"
        },
        "id": "qtQxYOEUOGY4",
        "outputId": "136fa172-00c8-4097-f1c2-d35785345098"
      },
      "execution_count": null,
      "outputs": [
        {
          "output_type": "stream",
          "name": "stdout",
          "text": [
            "🔍 Sample file paths: ['data_chunk_0.npy', 'data_chunk_1.npy', 'data_chunk_2.npy', 'data_chunk_3.npy', 'data_chunk_4.npy']\n"
          ]
        }
      ]
    },
    {
      "cell_type": "code",
      "source": [
        "import os\n",
        "print(\"📂 Files in Directory:\", os.listdir(DATA_PATH)[:10])  # List first 10 files"
      ],
      "metadata": {
        "colab": {
          "base_uri": "https://localhost:8080/"
        },
        "id": "ONWCe4dSOTx8",
        "outputId": "bcc949c0-d0ea-4c25-8879-f2775b582696"
      },
      "execution_count": null,
      "outputs": [
        {
          "output_type": "stream",
          "name": "stdout",
          "text": [
            "📂 Files in Directory: ['data_chunk_79000.npy', 'data_chunk_79001.npy', 'data_chunk_79002.npy', 'data_chunk_79003.npy', 'data_chunk_79004.npy', 'data_chunk_79005.npy', 'data_chunk_79006.npy', 'data_chunk_79007.npy', 'data_chunk_79008.npy', 'data_chunk_79009.npy']\n"
          ]
        }
      ]
    },
    {
      "cell_type": "code",
      "source": [
        "# ✅ Define batch size (20K files per batch)\n",
        "batch_size = 20000\n",
        "num_batches = len(file_list) // batch_size\n",
        "\n",
        "for batch_idx in range(3,4):\n",
        "    print(f\"\\n🚀 Processing Batch {batch_idx + 1}/{num_batches}\")\n",
        "\n",
        "    # ✅ Preallocate lists\n",
        "    X_data = []\n",
        "    y_data = []\n",
        "\n",
        "    # ✅ Get batch files\n",
        "    batch_files = file_list[batch_idx * batch_size : (batch_idx + 1) * batch_size]\n",
        "\n",
        "    # ✅ Load batch files\n",
        "    for file in tqdm(batch_files, desc=f\"📊 Loading Batch {batch_idx + 1}\"):\n",
        "        file_path = os.path.join(DATA_PATH, os.path.basename(file))\n",
        "        data = np.load(file_path, mmap_mode='r')\n",
        "\n",
        "        # ✅ Skip if shape is invalid\n",
        "        if data.shape[1] < 3:\n",
        "            continue\n",
        "\n",
        "        X_chunk = data[:, 0]  # Features\n",
        "        y_label = int(data[0, 2])  # Label\n",
        "\n",
        "        X_data.append(X_chunk)\n",
        "        y_data.append(y_label)\n",
        "\n",
        "    # ✅ Convert batch to NumPy array\n",
        "    X_data = np.array(X_data, dtype=np.float32)\n",
        "    y_data = np.array(y_data, dtype=np.int32)\n",
        "\n",
        "    # ✅ Save batch file\n",
        "    batch_file = os.path.join(SAVE_PATH, f\"batch_{batch_idx + 1}.npy\")\n",
        "    np.save(batch_file, {\"X\": X_data, \"y\": y_data})\n",
        "    print(f\"✅ Saved {batch_file}\")\n",
        "\n",
        "# ✅ Merge All Batches\n",
        "print(\"\\n🔗 Merging All Batches...\")"
      ],
      "metadata": {
        "colab": {
          "base_uri": "https://localhost:8080/"
        },
        "id": "AE99sQknLtM5",
        "outputId": "76074901-6dde-49b5-87dd-2a26cc185bec"
      },
      "execution_count": null,
      "outputs": [
        {
          "metadata": {
            "tags": null
          },
          "name": "stdout",
          "output_type": "stream",
          "text": [
            "\n",
            "🚀 Processing Batch 4/4\n"
          ]
        },
        {
          "output_type": "stream",
          "name": "stderr",
          "text": [
            "📊 Loading Batch 4: 100%|██████████| 20000/20000 [1:18:53<00:00,  4.22it/s]\n"
          ]
        },
        {
          "output_type": "stream",
          "name": "stdout",
          "text": [
            "✅ Saved /content/drive/MyDrive/processed_data/batch_4.npy\n",
            "\n",
            "🔗 Merging All Batches...\n"
          ]
        }
      ]
    },
    {
      "cell_type": "code",
      "source": [
        "import numpy as np\n",
        "import os\n",
        "\n",
        "# ✅ Define paths\n",
        "SAVE_PATH = \"/content/drive/MyDrive/processed_data\"\n",
        "final_file = os.path.join(SAVE_PATH, \"final_dataset.npy\")\n",
        "\n",
        "# ✅ Initialize an empty list for merging\n",
        "X_final = []\n",
        "\n",
        "# ✅ Load each batch and concatenate\n",
        "for batch_idx in range(4):\n",
        "    batch_file = os.path.join(SAVE_PATH, f\"batch_{batch_idx + 1}.npy\")\n",
        "\n",
        "    # Load batch\n",
        "    batch_data = np.load(batch_file, allow_pickle=True).item()\n",
        "\n",
        "    # Append only 'X' data (shape: 20K, 25K)\n",
        "    X_final.append(batch_data[\"X\"])\n",
        "\n",
        "# ✅ Concatenate along rows (axis=0) to get (80K, 25K)\n",
        "X_final = np.concatenate(X_final, axis=0)\n",
        "\n",
        "# ✅ Save final dataset as `.npy`\n",
        "np.save(final_file, X_final, allow_pickle=True)\n",
        "\n",
        "print(f\"🎯 Final Dataset Saved: {final_file}\")\n"
      ],
      "metadata": {
        "colab": {
          "base_uri": "https://localhost:8080/"
        },
        "id": "qDZxbTYAjTZ5",
        "outputId": "ebb3e6c1-0fec-417a-ed07-5dd8dffb161a"
      },
      "execution_count": null,
      "outputs": [
        {
          "output_type": "stream",
          "name": "stdout",
          "text": [
            "🎯 Final Dataset Saved: /content/drive/MyDrive/processed_data/final_dataset.npy\n"
          ]
        }
      ]
    },
    {
      "cell_type": "code",
      "source": [
        "import numpy as np\n",
        "\n",
        "# ✅ Load the saved dataset\n",
        "final_file = \"/content/drive/MyDrive/processed_data/final_dataset.npy\"\n",
        "X_final = np.load(final_file, allow_pickle=True)\n",
        "\n",
        "# ✅ Print the shape\n",
        "print(\"Shape of Final Dataset:\", X_final.shape)\n"
      ],
      "metadata": {
        "colab": {
          "base_uri": "https://localhost:8080/"
        },
        "id": "vKTUyBeVk18g",
        "outputId": "7c21ab4c-268a-488e-c603-c7106bb7dc80"
      },
      "execution_count": null,
      "outputs": [
        {
          "output_type": "stream",
          "name": "stdout",
          "text": [
            "Shape of Final Dataset: (80000, 25000)\n"
          ]
        }
      ]
    },
    {
      "cell_type": "code",
      "source": [
        "from sklearn.model_selection import train_test_split\n",
        "import numpy as np\n",
        "\n",
        "# Split dataset (80% Train, 20% Test)\n",
        "X_train, X_test, y_train, y_test = train_test_split(X_final, y_final, test_size=0.2, random_state=42, stratify=y_final)\n",
        "\n",
        "# Print shapes\n",
        "print(\"✅ X_train shape:\", X_train.shape)\n",
        "print(\"✅ X_test shape:\", X_test.shape)\n",
        "print(\"✅ y_train shape:\", y_train.shape)\n",
        "print(\"✅ y_test shape:\", y_test.shape)\n"
      ],
      "metadata": {
        "colab": {
          "base_uri": "https://localhost:8080/"
        },
        "id": "-RHQzHgVtZSp",
        "outputId": "43fc2aa4-f5c1-4083-eda7-322c8e262a8b"
      },
      "execution_count": null,
      "outputs": [
        {
          "output_type": "stream",
          "name": "stdout",
          "text": [
            "✅ X_train shape: (64000, 25000)\n",
            "✅ X_test shape: (16000, 25000)\n",
            "✅ y_train shape: (64000, 4)\n",
            "✅ y_test shape: (16000, 4)\n"
          ]
        }
      ]
    },
    {
      "cell_type": "code",
      "execution_count": null,
      "metadata": {
        "colab": {
          "base_uri": "https://localhost:8080/"
        },
        "id": "xI4EVSxqNr3d",
        "outputId": "58bf5363-a75c-4460-e0b6-74407e5b7dfd"
      },
      "outputs": [
        {
          "output_type": "stream",
          "name": "stdout",
          "text": [
            "✅ Data saved successfully at: /content/drive/MyDrive/processed_data\n"
          ]
        }
      ],
      "source": [
        "import numpy as np\n",
        "import os\n",
        "\n",
        "# Define save path\n",
        "save_dir = \"/content/drive/MyDrive/processed_data\"\n",
        "\n",
        "# Create directory if it doesn't exist\n",
        "if not os.path.exists(save_dir):\n",
        "    os.makedirs(save_dir)\n",
        "\n",
        "# Convert labels to float32 for consistency\n",
        "y_train = y_train.astype(np.float32)\n",
        "y_test = y_test.astype(np.float32)\n",
        "\n",
        "# Save data to .npy files\n",
        "np.save(os.path.join(save_dir, \"X_train.npy\"), X_train)\n",
        "np.save(os.path.join(save_dir, \"X_test.npy\"), X_test)\n",
        "np.save(os.path.join(save_dir, \"y_train.npy\"), y_train)\n",
        "np.save(os.path.join(save_dir, \"y_test.npy\"), y_test)\n",
        "\n",
        "print(\"✅ Data saved successfully at:\", save_dir)\n"
      ]
    },
    {
      "cell_type": "code",
      "source": [
        "print(\"✅ X_train shape:\", X_train.shape)\n",
        "print(\"✅ X_test shape:\", X_test.shape)\n",
        "print(\"✅ y_train shape:\", y_train.shape)\n",
        "print(\"✅ y_test shape:\", y_test.shape)\n",
        "print(\"✅ Data type of X_train:\", X_train.dtype)\n",
        "print(\"✅ Data type of y_train:\", y_train.dtype)\n"
      ],
      "metadata": {
        "colab": {
          "base_uri": "https://localhost:8080/"
        },
        "id": "GdQmMmJwupz-",
        "outputId": "77bc3f5e-1cf6-4065-d32d-4bfc8cb181b1"
      },
      "execution_count": null,
      "outputs": [
        {
          "output_type": "stream",
          "name": "stdout",
          "text": [
            "✅ X_train shape: (64000, 25000)\n",
            "✅ X_test shape: (16000, 25000)\n",
            "✅ y_train shape: (64000, 4)\n",
            "✅ y_test shape: (16000, 4)\n",
            "✅ Data type of X_train: float32\n",
            "✅ Data type of y_train: float32\n"
          ]
        }
      ]
    },
    {
      "cell_type": "code",
      "source": [
        "# ✅ Save Model\n",
        "model.save('/content/drive/MyDrive/processed_data/LSTM_model.h5')\n",
        "\n",
        "print(\"✅ Model training complete & saved!\")"
      ],
      "metadata": {
        "id": "NAIDKuDCvvyJ"
      },
      "execution_count": null,
      "outputs": []
    },
    {
      "cell_type": "code",
      "source": [
        "from google.colab import drive\n",
        "drive.mount('/content/drive')"
      ],
      "metadata": {
        "colab": {
          "base_uri": "https://localhost:8080/"
        },
        "id": "iu6Hw0jw9FY5",
        "outputId": "16cd0a37-e5d6-49f1-c430-05b5c29b6423"
      },
      "execution_count": null,
      "outputs": [
        {
          "output_type": "stream",
          "name": "stdout",
          "text": [
            "Mounted at /content/drive\n"
          ]
        }
      ]
    },
    {
      "cell_type": "code",
      "source": [
        "import numpy as np\n",
        "import os\n",
        "\n",
        "# Define load path\n",
        "load_dir = \"/content/drive/MyDrive/processed_data\"\n",
        "\n",
        "# Load data\n",
        "X_train = np.load(os.path.join(load_dir, \"X_train.npy\"))\n",
        "X_test = np.load(os.path.join(load_dir, \"X_test.npy\"))\n",
        "y_train = np.load(os.path.join(load_dir, \"y_train.npy\"))\n",
        "y_test = np.load(os.path.join(load_dir, \"y_test.npy\"))\n",
        "\n",
        "# Verify shapes\n",
        "print(\"✅ Data Loaded Successfully!\")\n",
        "print(f\"X_train shape: {X_train.shape}, dtype: {X_train.dtype}\")\n",
        "print(f\"X_test shape: {X_test.shape}, dtype: {X_test.dtype}\")\n",
        "print(f\"y_train shape: {y_train.shape}, dtype: {y_train.dtype}\")\n",
        "print(f\"y_test shape: {y_test.shape}, dtype: {y_test.dtype}\")\n",
        "\n",
        "# Function to create overlapping sequences within each sample\n",
        "def create_das_sequences_per_sample(data, seq_length=25000, overlap=5000):\n",
        "    \"\"\"\n",
        "    Create overlapping sequences from DAS fiber optic data per sample.\n",
        "\n",
        "    Parameters:\n",
        "    data: Raw DAS signal data (shape: (n_samples, signal_length))\n",
        "    seq_length: Length of each sequence\n",
        "    overlap: Number of samples to overlap between sequences\n",
        "\n",
        "    Returns:\n",
        "    Array of overlapping sequences (shape: (n_samples * n_sequences_per_sample, seq_length, 1))\n",
        "    \"\"\"\n",
        "    stride = seq_length - overlap\n",
        "    n_samples, signal_length = data.shape\n",
        "    n_sequences_per_sample = max(1, (signal_length - seq_length) // stride + 1)\n",
        "\n",
        "    # Initialize new array to store sequences\n",
        "    sequences = np.zeros((n_samples * n_sequences_per_sample, seq_length, 1))\n",
        "\n",
        "    idx = 0  # Keeps track of sequence index\n",
        "    for sample_idx in range(n_samples):\n",
        "        for seq_idx in range(n_sequences_per_sample):\n",
        "            start_idx = seq_idx * stride\n",
        "            end_idx = start_idx + seq_length\n",
        "            if end_idx <= signal_length:\n",
        "                sequences[idx, :, 0] = data[sample_idx, start_idx:end_idx]\n",
        "            else:\n",
        "                # Handle last sequence if it extends beyond available data\n",
        "                sequences[idx, :signal_length - start_idx, 0] = data[sample_idx, start_idx:]\n",
        "            idx += 1\n",
        "\n",
        "    return sequences\n",
        "\n",
        "# Apply function to X_train and X_test\n",
        "X_train_seq = create_das_sequences_per_sample(X_train)\n",
        "X_test_seq = create_das_sequences_per_sample(X_test)\n",
        "# y_train_seq = create_das_sequences_per_sample(y_train)\n",
        "# y_test_seq = create_das_sequences_per_sample(y_test)\n",
        "\n",
        "# Verify new shapes\n",
        "print(f\"X_train_seq shape: {X_train_seq.shape}\")  # Should be (n_samples * n_sequences_per_sample, 25000, 1)\n",
        "print(f\"X_test_seq shape: {X_test_seq.shape}\")  # Should be (n_samples * n_sequences_per_sample, 25000, 1)\n"
      ],
      "metadata": {
        "colab": {
          "base_uri": "https://localhost:8080/"
        },
        "id": "ahPjw8Re-zL4",
        "outputId": "0ae53293-8675-4848-c5d7-612e4a66892a"
      },
      "execution_count": null,
      "outputs": [
        {
          "output_type": "stream",
          "name": "stdout",
          "text": [
            "✅ Data Loaded Successfully!\n",
            "X_train shape: (64000, 25000), dtype: float32\n",
            "X_test shape: (16000, 25000), dtype: float32\n",
            "y_train shape: (64000, 4), dtype: float32\n",
            "y_test shape: (16000, 4), dtype: float32\n"
          ]
        }
      ]
    },
    {
      "cell_type": "code",
      "source": [
        "import numpy as np\n",
        "import os\n",
        "\n",
        "# Define load path\n",
        "load_dir = \"/content/drive/MyDrive/processed_data\"\n",
        "\n",
        "# Load data\n",
        "X_train = np.load(os.path.join(load_dir, \"X_train.npy\"))\n",
        "X_test = np.load(os.path.join(load_dir, \"X_test.npy\"))\n",
        "y_train = np.load(os.path.join(load_dir, \"y_train.npy\"))\n",
        "y_test = np.load(os.path.join(load_dir, \"y_test.npy\"))\n",
        "\n",
        "# Verify shapes and data types\n",
        "print(\"✅ Data Loaded Successfully!\")\n",
        "print(f\"X_train shape: {X_train.shape}, dtype: {X_train.dtype}\")\n",
        "print(f\"X_test shape: {X_test.shape}, dtype: {X_test.dtype}\")\n",
        "print(f\"y_train shape: {y_train.shape}, dtype: {y_train.dtype}\")\n",
        "print(f\"y_test shape: {y_test.shape}, dtype: {y_test.dtype}\")\n"
      ],
      "metadata": {
        "colab": {
          "base_uri": "https://localhost:8080/"
        },
        "id": "Mwe5cwbMw2eV",
        "outputId": "7213d151-9f65-410e-8f9e-fa92389e75e4"
      },
      "execution_count": null,
      "outputs": [
        {
          "output_type": "stream",
          "name": "stdout",
          "text": [
            "✅ Data Loaded Successfully!\n",
            "X_train shape: (64000, 25000), dtype: float32\n",
            "X_test shape: (16000, 25000), dtype: float32\n",
            "y_train shape: (64000, 4), dtype: float32\n",
            "y_test shape: (16000, 4), dtype: float32\n"
          ]
        }
      ]
    },
    {
      "cell_type": "code",
      "source": [
        "import numpy as np\n",
        "import librosa\n",
        "import librosa.display\n",
        "import matplotlib.pyplot as plt\n",
        "\n",
        "# Load your raw acoustic signal (assuming it's stored in `X_train[0]`)\n",
        "sample_signal = X_train[0]  # Select one sample\n",
        "\n",
        "# Set sampling rate (Assumption: 16kHz for acoustic signals)\n",
        "sr = 16000\n",
        "\n",
        "# Plot **Waveform**\n",
        "plt.figure(figsize=(12, 4))\n",
        "plt.plot(sample_signal)\n",
        "plt.title(\"Waveform of Acoustic Signal\")\n",
        "plt.xlabel(\"Time Steps\")\n",
        "plt.ylabel(\"Amplitude\")\n",
        "plt.show()\n",
        "\n",
        "# Compute **Spectrogram (Short-Time Fourier Transform)**\n",
        "D = librosa.amplitude_to_db(np.abs(librosa.stft(sample_signal)), ref=np.max)\n",
        "\n",
        "# Plot **Spectrogram**\n",
        "plt.figure(figsize=(12, 6))\n",
        "librosa.display.specshow(D, sr=sr, x_axis=\"time\", y_axis=\"log\")\n",
        "plt.colorbar(format=\"%+2.0f dB\")\n",
        "plt.title(\"Spectrogram of Acoustic Signal\")\n",
        "plt.xlabel(\"Time\")\n",
        "plt.ylabel(\"Frequency\")\n",
        "plt.show()\n"
      ],
      "metadata": {
        "colab": {
          "base_uri": "https://localhost:8080/",
          "height": 844
        },
        "id": "LoU1xNeCWtCt",
        "outputId": "4eaa2696-8e08-47dd-fe82-69b47f353749"
      },
      "execution_count": null,
      "outputs": [
        {
          "output_type": "display_data",
          "data": {
            "text/plain": [
              "<Figure size 1200x400 with 1 Axes>"
            ],
            "image/png": "[encoded data removed]"
          },
          "metadata": {}
        },
        {
          "output_type": "display_data",
          "data": {
            "text/plain": [
              "<Figure size 1200x600 with 2 Axes>"
            ],
            "image/png": "[encoded data removed]"
          },
          "metadata": {}
        }
      ]
    },
    {
      "cell_type": "code",
      "source": [
        "from google.colab import drive\n",
        "drive.mount('/content/drive')"
      ],
      "metadata": {
        "colab": {
          "base_uri": "https://localhost:8080/"
        },
        "id": "Lei40Qi45VJO",
        "outputId": "c4fa8e2d-e539-43c2-f158-e72ca3347707"
      },
      "execution_count": null,
      "outputs": [
        {
          "output_type": "stream",
          "name": "stdout",
          "text": [
            "Mounted at /content/drive\n"
          ]
        }
      ]
    },
    {
      "cell_type": "code",
      "source": [
        "import numpy as np\n",
        "import matplotlib.pyplot as plt\n",
        "import os\n",
        "import cv2\n",
        "from tqdm import tqdm\n",
        "\n",
        "# 📂 Paths (Change as needed)\n",
        "load_dir = \"/content/drive/MyDrive\"\n",
        "save_dir = \"/content/drive/MyDrive/DAS_visualizations\"\n",
        "\n",
        "# Load Dataset\n",
        "X_train = np.load(os.path.join(load_dir, \"X_train.npy\"))\n",
        "\n",
        "# Ensure output folders exist\n",
        "waveform_dir = os.path.join(save_dir, \"waveforms\")\n",
        "resized_waveform_dir = os.path.join(save_dir, \"waveforms_resized\")\n",
        "os.makedirs(waveform_dir, exist_ok=True)\n",
        "os.makedirs(resized_waveform_dir, exist_ok=True)\n",
        "\n",
        "# Get existing files to avoid reprocessing\n",
        "# existing_files = set(os.listdir(waveform_dir))\n",
        "\n",
        "# Target image size\n",
        "IMG_HEIGHT, IMG_WIDTH = 256, 256\n",
        "\n",
        "# Function to plot and save waveform\n",
        "def plot_waveform(index, signal):\n",
        "    save_path = os.path.join(waveform_dir, f\"waveform_{index}.png\")\n",
        "    plt.figure(figsize=(10, 4))\n",
        "    plt.plot(signal)\n",
        "    plt.title(f\"Waveform - Sample {index}\")\n",
        "    plt.xlabel(\"Time Steps\")\n",
        "    plt.ylabel(\"Amplitude\")\n",
        "    plt.grid()\n",
        "    plt.savefig(save_path, bbox_inches='tight', pad_inches=0.1)\n",
        "    plt.close()\n",
        "\n",
        "# Function to resize while maintaining aspect ratio (with white padding)\n",
        "def resize_image(image_path, index):\n",
        "    img = cv2.imread(image_path)\n",
        "    orig_h, orig_w = img.shape[:2]\n",
        "\n",
        "    # Compute scale while maintaining aspect ratio\n",
        "    scale = min(IMG_WIDTH / orig_w, IMG_HEIGHT / orig_h)\n",
        "    new_w = int(orig_w * scale)\n",
        "    new_h = int(orig_h * scale)\n",
        "\n",
        "    # Resize image\n",
        "    resized_img = cv2.resize(img, (new_w, new_h))\n",
        "\n",
        "    # Create white background\n",
        "    padded_img = np.full((IMG_HEIGHT, IMG_WIDTH, 3), 255, dtype=np.uint8)\n",
        "\n",
        "    # Center the resized image\n",
        "    x_offset = (IMG_WIDTH - new_w) // 2\n",
        "    y_offset = (IMG_HEIGHT - new_h) // 2\n",
        "    padded_img[y_offset:y_offset + new_h, x_offset:x_offset + new_w] = resized_img\n",
        "\n",
        "    # Save resized image\n",
        "    save_path = os.path.join(resized_waveform_dir, f\"waveform_{index}.png\")\n",
        "    cv2.imwrite(save_path, padded_img)\n",
        "\n",
        "# Generate and process waveforms\n",
        "for i in tqdm(range(41597,len(X_train)), desc=\"Generating & Resizing Waveforms\"):\n",
        "    img_filename = f\"waveform_{i}.png\"\n",
        "    img_path = os.path.join(waveform_dir, img_filename)\n",
        "\n",
        "    # Generate waveform if missing\n",
        "    plot_waveform(i, X_train[i])\n",
        "\n",
        "    # Resize and save the waveform\n",
        "    resize_image(img_path, i)\n",
        "\n",
        "print(f\"✅ Waveforms saved in {waveform_dir} and resized images saved in {resized_waveform_dir}\")\n"
      ],
      "metadata": {
        "colab": {
          "base_uri": "https://localhost:8080/"
        },
        "id": "4-iob3mfZwGK",
        "outputId": "1b11b7f0-b5d8-45f2-de1c-3045bf02202e"
      },
      "execution_count": null,
      "outputs": [
        {
          "output_type": "stream",
          "name": "stderr",
          "text": [
            "Generating & Resizing Waveforms:  77%|███████▋  | 17336/22403 [1:20:50<16:53,  5.00it/s]"
          ]
        }
      ]
    },
    {
      "cell_type": "code",
      "source": [
        "import numpy as np\n",
        "import matplotlib.pyplot as plt\n",
        "import os\n",
        "import cv2\n",
        "from tqdm import tqdm\n",
        "\n",
        "# 📂 Paths (Change as needed)\n",
        "load_dir = \"/content/drive/MyDrive\"\n",
        "save_dir = \"/content/drive/MyDrive/DAS_visualizations\"\n",
        "\n",
        "# Load Dataset\n",
        "y_train = np.load(os.path.join(load_dir, \"y_train.npy\"))\n",
        "\n",
        "# Ensure output folders exist\n",
        "waveform_dir = os.path.join(save_dir, \"waveforms\")\n",
        "resized_waveform_dir = os.path.join(save_dir, \"waveforms_resized\")\n",
        "os.makedirs(waveform_dir, exist_ok=True)\n",
        "os.makedirs(resized_waveform_dir, exist_ok=True)\n",
        "\n",
        "# Get existing files to avoid reprocessing\n",
        "# existing_files = set(os.listdir(waveform_dir))\n",
        "\n",
        "# Target image size\n",
        "IMG_HEIGHT, IMG_WIDTH = 256, 256\n",
        "\n",
        "# Function to plot and save waveform\n",
        "def plot_waveform(index, signal):\n",
        "    save_path = os.path.join(waveform_dir, f\"waveform_{index}.png\")\n",
        "    plt.figure(figsize=(10, 4))\n",
        "    plt.plot(signal)\n",
        "    plt.title(f\"Waveform - Sample {index}\")\n",
        "    plt.xlabel(\"Time Steps\")\n",
        "    plt.ylabel(\"Amplitude\")\n",
        "    plt.grid()\n",
        "    plt.savefig(save_path, bbox_inches='tight', pad_inches=0.1)\n",
        "    plt.close()\n",
        "\n",
        "# Function to resize while maintaining aspect ratio (with white padding)\n",
        "def resize_image(image_path, index):\n",
        "    img = cv2.imread(image_path)\n",
        "    orig_h, orig_w = img.shape[:2]\n",
        "\n",
        "    # Compute scale while maintaining aspect ratio\n",
        "    scale = min(IMG_WIDTH / orig_w, IMG_HEIGHT / orig_h)\n",
        "    new_w = int(orig_w * scale)\n",
        "    new_h = int(orig_h * scale)\n",
        "\n",
        "    # Resize image\n",
        "    resized_img = cv2.resize(img, (new_w, new_h))\n",
        "\n",
        "    # Create white background\n",
        "    padded_img = np.full((IMG_HEIGHT, IMG_WIDTH, 3), 255, dtype=np.uint8)\n",
        "\n",
        "    # Center the resized image\n",
        "    x_offset = (IMG_WIDTH - new_w) // 2\n",
        "    y_offset = (IMG_HEIGHT - new_h) // 2\n",
        "    padded_img[y_offset:y_offset + new_h, x_offset:x_offset + new_w] = resized_img\n",
        "\n",
        "    # Save resized image\n",
        "    save_path = os.path.join(resized_waveform_dir, f\"waveform_{index}.png\")\n",
        "    cv2.imwrite(save_path, padded_img)\n",
        "\n",
        "# Generate and process waveforms\n",
        "for i in tqdm(range(len(y_train)), desc=\"Generating & Resizing Waveforms\"):\n",
        "    img_filename = f\"waveform_{i}.png\"\n",
        "    img_path = os.path.join(waveform_dir, img_filename)\n",
        "\n",
        "    # Generate waveform if missing\n",
        "    plot_waveform(i, y_train[i])\n",
        "\n",
        "    # Resize and save the waveform\n",
        "    resize_image(img_path, i)\n",
        "\n",
        "print(f\"✅ Waveforms saved in {waveform_dir} and resized images saved in {resized_waveform_dir}\")\n"
      ],
      "metadata": {
        "id": "Onv1uxs1WfVm"
      },
      "execution_count": null,
      "outputs": []
    },
    {
      "cell_type": "code",
      "source": [
        "img_filename = f\"waveform_{417}.png\"\n",
        "img_path = os.path.join(waveform_dir, img_filename)\n",
        "\n",
        "# Generate waveform if missing\n",
        "plot_waveform(417, X_train[417])\n",
        "\n",
        "# Resize and save the waveform\n",
        "resize_image(img_path, 417)"
      ],
      "metadata": {
        "id": "4BBZYYlb8mkH"
      },
      "execution_count": null,
      "outputs": []
    },
    {
      "cell_type": "code",
      "source": [
        "import numpy as np\n",
        "import librosa\n",
        "import librosa.display\n",
        "import matplotlib.pyplot as plt\n",
        "import os\n",
        "from tqdm import tqdm\n",
        "\n",
        "# Load Data\n",
        "load_dir = \"/content/drive/MyDrive/processed_data\"\n",
        "save_dir = \"/content/drive/MyDrive/DAS_visualizations\"\n",
        "\n",
        "X_train = np.load(os.path.join(load_dir, \"X_train.npy\"))\n",
        "\n",
        "# Ensure output folder exists\n",
        "spectrogram_dir = os.path.join(save_dir, \"spectrograms\")\n",
        "os.makedirs(spectrogram_dir, exist_ok=True)\n",
        "\n",
        "# Set Sampling Rate\n",
        "sr = 16000\n",
        "\n",
        "# Function to plot and save spectrogram\n",
        "def plot_spectrogram(index, signal):\n",
        "    save_path = os.path.join(spectrogram_dir, f\"spectrogram_{index}.png\")\n",
        "    plt.figure(figsize=(10, 4))\n",
        "    D = librosa.amplitude_to_db(np.abs(librosa.stft(signal)), ref=np.max)\n",
        "    librosa.display.specshow(D, sr=sr, x_axis=\"time\", y_axis=\"log\")\n",
        "    plt.colorbar(format=\"%+2.0f dB\")\n",
        "    plt.title(f\"Spectrogram - Sample {index}\")\n",
        "    plt.savefig(save_path)\n",
        "    plt.close()\n",
        "\n",
        "# Process all samples\n",
        "num_samples = X_train.shape[0]  # 64000\n",
        "\n",
        "for i in tqdm(range(num_samples), desc=\"Generating Spectrograms\"):\n",
        "    plot_spectrogram(i, X_train[i])\n",
        "\n",
        "print(f\"✅ Spectrogram images saved in {spectrogram_dir}\")\n"
      ],
      "metadata": {
        "id": "rM65czjWmfZ3"
      },
      "execution_count": null,
      "outputs": []
    },
    {
      "cell_type": "code",
      "source": [
        "import numpy as np\n",
        "import os\n",
        "import matplotlib.pyplot as plt\n",
        "import librosa\n",
        "import librosa.display\n",
        "\n",
        "# Load Data\n",
        "load_dir = \"/content/drive/MyDrive/processed_data\"\n",
        "save_dir = \"/content/drive/MyDrive/DAS_visualizations\"  # Output folder\n",
        "\n",
        "X_train = np.load(os.path.join(load_dir, \"X_train.npy\"))\n",
        "\n",
        "# Ensure output folders exist\n",
        "waveform_dir = os.path.join(save_dir, \"waveforms\")\n",
        "spectrogram_dir = os.path.join(save_dir, \"spectrograms\")\n",
        "\n",
        "os.makedirs(waveform_dir, exist_ok=True)\n",
        "os.makedirs(spectrogram_dir, exist_ok=True)\n",
        "\n",
        "# Function to plot and save waveform\n",
        "def plot_waveform(signal, index, save_path):\n",
        "    plt.figure(figsize=(10, 4))\n",
        "    plt.plot(signal)\n",
        "    plt.title(f\"Waveform of Acoustic Signal - Sample {index}\")\n",
        "    plt.xlabel(\"Time Steps\")\n",
        "    plt.ylabel(\"Amplitude\")\n",
        "    plt.grid()\n",
        "    plt.savefig(save_path)\n",
        "    plt.close()\n",
        "\n",
        "# Function to plot and save spectrogram\n",
        "def plot_spectrogram(signal, index, save_path, sr=16000, n_fft=512, hop_length=256):\n",
        "    plt.figure(figsize=(10, 4))\n",
        "    S = np.abs(librosa.stft(signal, n_fft=n_fft, hop_length=hop_length))\n",
        "    S_db = librosa.amplitude_to_db(S, ref=np.max)\n",
        "\n",
        "    librosa.display.specshow(S_db, sr=sr, hop_length=hop_length, x_axis=\"time\", y_axis=\"log\")\n",
        "    plt.colorbar(format=\"%+2.0f dB\")\n",
        "    plt.title(f\"Spectrogram - Sample {index}\")\n",
        "    plt.savefig(save_path)\n",
        "    plt.close()\n",
        "\n",
        "# Process and save first 5 samples\n",
        "num_samples = 5\n",
        "for i in range(num_samples):\n",
        "    signal = X_train[i]  # Extract sample\n",
        "\n",
        "    # Save waveform\n",
        "    waveform_path = os.path.join(waveform_dir, f\"waveform_{i}.png\")\n",
        "    plot_waveform(signal, i, waveform_path)\n",
        "\n",
        "    # Save spectrogram\n",
        "    spectrogram_path = os.path.join(spectrogram_dir, f\"spectrogram_{i}.png\")\n",
        "    plot_spectrogram(signal, i, spectrogram_path)\n",
        "\n",
        "print(f\"✅ All files saved in {save_dir}\")\n"
      ],
      "metadata": {
        "id": "tzYdRl2vX5rQ"
      },
      "execution_count": null,
      "outputs": []
    },
    {
      "cell_type": "code",
      "source": [
        "import numpy as np\n",
        "import tensorflow as tf\n",
        "from tensorflow.keras.models import Sequential\n",
        "from tensorflow.keras.layers import LSTM, Dense, Dropout, BatchNormalization, Bidirectional\n",
        "from tensorflow.keras.callbacks import ModelCheckpoint, EarlyStopping, ReduceLROnPlateau\n",
        "import matplotlib.pyplot as plt\n",
        "import os"
      ],
      "metadata": {
        "id": "Npc9H_NX8UBw"
      },
      "execution_count": null,
      "outputs": []
    },
    {
      "cell_type": "code",
      "source": [
        "# Check for GPU availability\n",
        "gpus = tf.config.experimental.list_physical_devices('GPU')\n",
        "if gpus:\n",
        "    try:\n",
        "        for gpu in gpus:\n",
        "            tf.config.experimental.set_memory_growth(gpu, True)\n",
        "        print(f\"Using {len(gpus)} GPU(s) with memory growth enabled\")\n",
        "    except RuntimeError as e:\n",
        "        print(f\"GPU memory configuration error: {e}\")"
      ],
      "metadata": {
        "id": "ITJcir9176t6"
      },
      "execution_count": null,
      "outputs": []
    },
    {
      "cell_type": "code",
      "source": [
        "# Reshape data to add feature dimension for LSTM\n",
        "X_train = X_train.reshape(X_train.shape[0], X_train.shape[1], 1)\n",
        "X_test = X_test.reshape(X_test.shape[0], X_test.shape[1], 1)\n",
        "\n",
        "print(f\"Training data shape after reshaping: {X_train.shape}\")\n",
        "print(f\"Testing data shape after reshaping: {X_test.shape}\")"
      ],
      "metadata": {
        "colab": {
          "base_uri": "https://localhost:8080/"
        },
        "id": "a1csHokR8WXJ",
        "outputId": "0ffea5d1-f259-4fc2-d7f5-7b9dc16fef7c"
      },
      "execution_count": null,
      "outputs": [
        {
          "output_type": "stream",
          "name": "stdout",
          "text": [
            "Training data shape after reshaping: (64000, 25000, 1)\n",
            "Testing data shape after reshaping: (16000, 25000, 1)\n"
          ]
        }
      ]
    },
    {
      "cell_type": "code",
      "source": [
        "# Build LSTM model\n",
        "def build_das_model(input_shape, num_classes=4):\n",
        "    model = Sequential([\n",
        "        # First Bidirectional LSTM layer\n",
        "        Bidirectional(LSTM(64, return_sequences=True,\n",
        "                     dropout=0.2, recurrent_dropout=0.2),\n",
        "                     input_shape=input_shape),\n",
        "\n",
        "        BatchNormalization(),\n",
        "\n",
        "        # Second LSTM layer\n",
        "        LSTM(128, return_sequences=False,\n",
        "             dropout=0.3, recurrent_dropout=0.3),\n",
        "\n",
        "        BatchNormalization(),\n",
        "\n",
        "        # Dense classification layers\n",
        "        Dense(64, activation='relu'),\n",
        "        Dropout(0.4),\n",
        "        Dense(num_classes, activation='softmax')\n",
        "    ])\n",
        "\n",
        "    # Compile with Adam optimizer\n",
        "    model.compile(\n",
        "        optimizer=tf.keras.optimizers.Adam(learning_rate=0.001),\n",
        "        loss='categorical_crossentropy',  # Using categorical since y is one-hot encoded\n",
        "        metrics=['accuracy']\n",
        "    )\n",
        "\n",
        "    return model"
      ],
      "metadata": {
        "id": "TTwmbR3B8fIe"
      },
      "execution_count": null,
      "outputs": []
    },
    {
      "cell_type": "code",
      "source": [
        "# Create model\n",
        "model = build_das_model(input_shape=(X_train.shape[1], 1))\n",
        "model.summary()"
      ],
      "metadata": {
        "colab": {
          "base_uri": "https://localhost:8080/",
          "height": 440
        },
        "id": "yLCcC2lj8hXb",
        "outputId": "aff2497e-7c88-4386-cc29-86ea64937e7e"
      },
      "execution_count": null,
      "outputs": [
        {
          "output_type": "stream",
          "name": "stderr",
          "text": [
            "/usr/local/lib/python3.11/dist-packages/keras/src/layers/rnn/bidirectional.py:107: UserWarning: Do not pass an `input_shape`/`input_dim` argument to a layer. When using Sequential models, prefer using an `Input(shape)` object as the first layer in the model instead.\n",
            "  super().__init__(**kwargs)\n"
          ]
        },
        {
          "output_type": "display_data",
          "data": {
            "text/plain": [
              "\u001b[1mModel: \"sequential\"\u001b[0m\n"
            ],
            "text/html": [
              "<pre style=\"white-space:pre;overflow-x:auto;line-height:normal;font-family:Menlo,'DejaVu Sans Mono',consolas,'Courier New',monospace\"><span style=\"font-weight: bold\">Model: \"sequential\"</span>\n",
              "</pre>\n"
            ]
          },
          "metadata": {}
        },
        {
          "output_type": "display_data",
          "data": {
            "text/plain": [
              "┏━━━━━━━━━━━━━━━━━━━━━━━━━━━━━━━━━━━━━━┳━━━━━━━━━━━━━━━━━━━━━━━━━━━━━┳━━━━━━━━━━━━━━━━━┓\n",
              "┃\u001b[1m \u001b[0m\u001b[1mLayer (type)                        \u001b[0m\u001b[1m \u001b[0m┃\u001b[1m \u001b[0m\u001b[1mOutput Shape               \u001b[0m\u001b[1m \u001b[0m┃\u001b[1m \u001b[0m\u001b[1m        Param #\u001b[0m\u001b[1m \u001b[0m┃\n",
              "┡━━━━━━━━━━━━━━━━━━━━━━━━━━━━━━━━━━━━━━╇━━━━━━━━━━━━━━━━━━━━━━━━━━━━━╇━━━━━━━━━━━━━━━━━┩\n",
              "│ bidirectional (\u001b[38;5;33mBidirectional\u001b[0m)        │ (\u001b[38;5;45mNone\u001b[0m, \u001b[38;5;34m25000\u001b[0m, \u001b[38;5;34m128\u001b[0m)          │          \u001b[38;5;34m33,792\u001b[0m │\n",
              "├──────────────────────────────────────┼─────────────────────────────┼─────────────────┤\n",
              "│ batch_normalization                  │ (\u001b[38;5;45mNone\u001b[0m, \u001b[38;5;34m25000\u001b[0m, \u001b[38;5;34m128\u001b[0m)          │             \u001b[38;5;34m512\u001b[0m │\n",
              "│ (\u001b[38;5;33mBatchNormalization\u001b[0m)                 │                             │                 │\n",
              "├──────────────────────────────────────┼─────────────────────────────┼─────────────────┤\n",
              "│ lstm_1 (\u001b[38;5;33mLSTM\u001b[0m)                        │ (\u001b[38;5;45mNone\u001b[0m, \u001b[38;5;34m128\u001b[0m)                 │         \u001b[38;5;34m131,584\u001b[0m │\n",
              "├──────────────────────────────────────┼─────────────────────────────┼─────────────────┤\n",
              "│ batch_normalization_1                │ (\u001b[38;5;45mNone\u001b[0m, \u001b[38;5;34m128\u001b[0m)                 │             \u001b[38;5;34m512\u001b[0m │\n",
              "│ (\u001b[38;5;33mBatchNormalization\u001b[0m)                 │                             │                 │\n",
              "├──────────────────────────────────────┼─────────────────────────────┼─────────────────┤\n",
              "│ dense (\u001b[38;5;33mDense\u001b[0m)                        │ (\u001b[38;5;45mNone\u001b[0m, \u001b[38;5;34m64\u001b[0m)                  │           \u001b[38;5;34m8,256\u001b[0m │\n",
              "├──────────────────────────────────────┼─────────────────────────────┼─────────────────┤\n",
              "│ dropout (\u001b[38;5;33mDropout\u001b[0m)                    │ (\u001b[38;5;45mNone\u001b[0m, \u001b[38;5;34m64\u001b[0m)                  │               \u001b[38;5;34m0\u001b[0m │\n",
              "├──────────────────────────────────────┼─────────────────────────────┼─────────────────┤\n",
              "│ dense_1 (\u001b[38;5;33mDense\u001b[0m)                      │ (\u001b[38;5;45mNone\u001b[0m, \u001b[38;5;34m4\u001b[0m)                   │             \u001b[38;5;34m260\u001b[0m │\n",
              "└──────────────────────────────────────┴─────────────────────────────┴─────────────────┘\n"
            ],
            "text/html": [
              "<pre style=\"white-space:pre;overflow-x:auto;line-height:normal;font-family:Menlo,'DejaVu Sans Mono',consolas,'Courier New',monospace\">┏━━━━━━━━━━━━━━━━━━━━━━━━━━━━━━━━━━━━━━┳━━━━━━━━━━━━━━━━━━━━━━━━━━━━━┳━━━━━━━━━━━━━━━━━┓\n",
              "┃<span style=\"font-weight: bold\"> Layer (type)                         </span>┃<span style=\"font-weight: bold\"> Output Shape                </span>┃<span style=\"font-weight: bold\">         Param # </span>┃\n",
              "┡━━━━━━━━━━━━━━━━━━━━━━━━━━━━━━━━━━━━━━╇━━━━━━━━━━━━━━━━━━━━━━━━━━━━━╇━━━━━━━━━━━━━━━━━┩\n",
              "│ bidirectional (<span style=\"color: #0087ff; text-decoration-color: #0087ff\">Bidirectional</span>)        │ (<span style=\"color: #00d7ff; text-decoration-color: #00d7ff\">None</span>, <span style=\"color: #00af00; text-decoration-color: #00af00\">25000</span>, <span style=\"color: #00af00; text-decoration-color: #00af00\">128</span>)          │          <span style=\"color: #00af00; text-decoration-color: #00af00\">33,792</span> │\n",
              "├──────────────────────────────────────┼─────────────────────────────┼─────────────────┤\n",
              "│ batch_normalization                  │ (<span style=\"color: #00d7ff; text-decoration-color: #00d7ff\">None</span>, <span style=\"color: #00af00; text-decoration-color: #00af00\">25000</span>, <span style=\"color: #00af00; text-decoration-color: #00af00\">128</span>)          │             <span style=\"color: #00af00; text-decoration-color: #00af00\">512</span> │\n",
              "│ (<span style=\"color: #0087ff; text-decoration-color: #0087ff\">BatchNormalization</span>)                 │                             │                 │\n",
              "├──────────────────────────────────────┼─────────────────────────────┼─────────────────┤\n",
              "│ lstm_1 (<span style=\"color: #0087ff; text-decoration-color: #0087ff\">LSTM</span>)                        │ (<span style=\"color: #00d7ff; text-decoration-color: #00d7ff\">None</span>, <span style=\"color: #00af00; text-decoration-color: #00af00\">128</span>)                 │         <span style=\"color: #00af00; text-decoration-color: #00af00\">131,584</span> │\n",
              "├──────────────────────────────────────┼─────────────────────────────┼─────────────────┤\n",
              "│ batch_normalization_1                │ (<span style=\"color: #00d7ff; text-decoration-color: #00d7ff\">None</span>, <span style=\"color: #00af00; text-decoration-color: #00af00\">128</span>)                 │             <span style=\"color: #00af00; text-decoration-color: #00af00\">512</span> │\n",
              "│ (<span style=\"color: #0087ff; text-decoration-color: #0087ff\">BatchNormalization</span>)                 │                             │                 │\n",
              "├──────────────────────────────────────┼─────────────────────────────┼─────────────────┤\n",
              "│ dense (<span style=\"color: #0087ff; text-decoration-color: #0087ff\">Dense</span>)                        │ (<span style=\"color: #00d7ff; text-decoration-color: #00d7ff\">None</span>, <span style=\"color: #00af00; text-decoration-color: #00af00\">64</span>)                  │           <span style=\"color: #00af00; text-decoration-color: #00af00\">8,256</span> │\n",
              "├──────────────────────────────────────┼─────────────────────────────┼─────────────────┤\n",
              "│ dropout (<span style=\"color: #0087ff; text-decoration-color: #0087ff\">Dropout</span>)                    │ (<span style=\"color: #00d7ff; text-decoration-color: #00d7ff\">None</span>, <span style=\"color: #00af00; text-decoration-color: #00af00\">64</span>)                  │               <span style=\"color: #00af00; text-decoration-color: #00af00\">0</span> │\n",
              "├──────────────────────────────────────┼─────────────────────────────┼─────────────────┤\n",
              "│ dense_1 (<span style=\"color: #0087ff; text-decoration-color: #0087ff\">Dense</span>)                      │ (<span style=\"color: #00d7ff; text-decoration-color: #00d7ff\">None</span>, <span style=\"color: #00af00; text-decoration-color: #00af00\">4</span>)                   │             <span style=\"color: #00af00; text-decoration-color: #00af00\">260</span> │\n",
              "└──────────────────────────────────────┴─────────────────────────────┴─────────────────┘\n",
              "</pre>\n"
            ]
          },
          "metadata": {}
        },
        {
          "output_type": "display_data",
          "data": {
            "text/plain": [
              "\u001b[1m Total params: \u001b[0m\u001b[38;5;34m174,916\u001b[0m (683.27 KB)\n"
            ],
            "text/html": [
              "<pre style=\"white-space:pre;overflow-x:auto;line-height:normal;font-family:Menlo,'DejaVu Sans Mono',consolas,'Courier New',monospace\"><span style=\"font-weight: bold\"> Total params: </span><span style=\"color: #00af00; text-decoration-color: #00af00\">174,916</span> (683.27 KB)\n",
              "</pre>\n"
            ]
          },
          "metadata": {}
        },
        {
          "output_type": "display_data",
          "data": {
            "text/plain": [
              "\u001b[1m Trainable params: \u001b[0m\u001b[38;5;34m174,404\u001b[0m (681.27 KB)\n"
            ],
            "text/html": [
              "<pre style=\"white-space:pre;overflow-x:auto;line-height:normal;font-family:Menlo,'DejaVu Sans Mono',consolas,'Courier New',monospace\"><span style=\"font-weight: bold\"> Trainable params: </span><span style=\"color: #00af00; text-decoration-color: #00af00\">174,404</span> (681.27 KB)\n",
              "</pre>\n"
            ]
          },
          "metadata": {}
        },
        {
          "output_type": "display_data",
          "data": {
            "text/plain": [
              "\u001b[1m Non-trainable params: \u001b[0m\u001b[38;5;34m512\u001b[0m (2.00 KB)\n"
            ],
            "text/html": [
              "<pre style=\"white-space:pre;overflow-x:auto;line-height:normal;font-family:Menlo,'DejaVu Sans Mono',consolas,'Courier New',monospace\"><span style=\"font-weight: bold\"> Non-trainable params: </span><span style=\"color: #00af00; text-decoration-color: #00af00\">512</span> (2.00 KB)\n",
              "</pre>\n"
            ]
          },
          "metadata": {}
        }
      ]
    },
    {
      "cell_type": "code",
      "source": [
        "# Define callbacks\n",
        "callbacks = [\n",
        "    ModelCheckpoint(\n",
        "        'best_das_model.h5',\n",
        "        monitor='val_accuracy',\n",
        "        save_best_only=True,\n",
        "        mode='max',\n",
        "        verbose=1\n",
        "    ),\n",
        "    EarlyStopping(\n",
        "        monitor='val_loss',\n",
        "        patience=7,\n",
        "        mode='min',\n",
        "        restore_best_weights=True,\n",
        "        verbose=1\n",
        "    ),\n",
        "    ReduceLROnPlateau(\n",
        "        monitor='val_loss',\n",
        "        factor=0.5,\n",
        "        patience=3,\n",
        "        min_lr=1e-6,\n",
        "        verbose=1\n",
        "    )\n",
        "]"
      ],
      "metadata": {
        "id": "qa9vE4zu8kQQ"
      },
      "execution_count": null,
      "outputs": []
    },
    {
      "cell_type": "code",
      "source": [
        "# Train the model with a smaller batch size to save memory\n",
        "batch_size = 16  # Adjust based on your GPU memory\n",
        "history = model.fit(\n",
        "    X_train_seq, y_train,\n",
        "    validation_split=0.15,  # Hold back some training data for validation\n",
        "    batch_size=batch_size,\n",
        "    epochs=20,\n",
        "    callbacks=callbacks,\n",
        "    verbose=1\n",
        ")"
      ],
      "metadata": {
        "id": "_8HotooA8l-Q"
      },
      "execution_count": null,
      "outputs": []
    },
    {
      "cell_type": "code",
      "source": [
        "# Evaluate on test set\n",
        "test_loss, test_acc = model.evaluate(X_test, y_test, verbose=1)\n",
        "print(f\"Test accuracy: {test_acc:.4f}\")\n",
        "print(f\"Test loss: {test_loss:.4f}\")"
      ],
      "metadata": {
        "id": "VnwWy8W28n32"
      },
      "execution_count": null,
      "outputs": []
    },
    {
      "cell_type": "code",
      "source": [
        "# Plot training history\n",
        "plt.figure(figsize=(12, 5))"
      ],
      "metadata": {
        "id": "geI2c0pJ8p9l"
      },
      "execution_count": null,
      "outputs": []
    },
    {
      "cell_type": "code",
      "source": [
        "# Plot training & validation accuracy\n",
        "plt.subplot(1, 2, 1)\n",
        "plt.plot(history.history['accuracy'])\n",
        "plt.plot(history.history['val_accuracy'])\n",
        "plt.title('DAS Model Accuracy')\n",
        "plt.ylabel('Accuracy')\n",
        "plt.xlabel('Epoch')\n",
        "plt.legend(['Train', 'Validation'], loc='lower right')"
      ],
      "metadata": {
        "id": "P4ctSuVV8sQd"
      },
      "execution_count": null,
      "outputs": []
    },
    {
      "cell_type": "code",
      "source": [
        "# Plot training & validation loss\n",
        "plt.subplot(1, 2, 2)\n",
        "plt.plot(history.history['loss'])\n",
        "plt.plot(history.history['val_loss'])\n",
        "plt.title('DAS Model Loss')\n",
        "plt.ylabel('Loss')\n",
        "plt.xlabel('Epoch')\n",
        "plt.legend(['Train', 'Validation'], loc='upper right')"
      ],
      "metadata": {
        "id": "bVjfQcHJ8uIm"
      },
      "execution_count": null,
      "outputs": []
    },
    {
      "cell_type": "code",
      "source": [
        "plt.tight_layout()\n",
        "plt.savefig('das_training_history.png')\n",
        "plt.show()"
      ],
      "metadata": {
        "id": "ENGa0eoK8vrk"
      },
      "execution_count": null,
      "outputs": []
    },
    {
      "cell_type": "code",
      "source": [
        "# Make predictions on test data for visualization\n",
        "y_pred = model.predict(X_test)\n",
        "y_pred_classes = np.argmax(y_pred, axis=1)\n",
        "y_true_classes = np.argmax(y_test, axis=1)"
      ],
      "metadata": {
        "id": "NNoCd8Bf8xzL"
      },
      "execution_count": null,
      "outputs": []
    },
    {
      "cell_type": "code",
      "source": [
        "# Confusion matrix\n",
        "from sklearn.metrics import confusion_matrix, classification_report\n",
        "import seaborn as sns\n",
        "\n",
        "cm = confusion_matrix(y_true_classes, y_pred_classes)\n",
        "plt.figure(figsize=(10, 8))\n",
        "sns.heatmap(cm, annot=True, fmt='d', cmap='Blues')\n",
        "plt.title('Confusion Matrix')\n",
        "plt.ylabel('True Label')\n",
        "plt.xlabel('Predicted Label')\n",
        "plt.savefig('das_confusion_matrix.png')\n",
        "plt.show()"
      ],
      "metadata": {
        "id": "_QO4RQsB81ec"
      },
      "execution_count": null,
      "outputs": []
    },
    {
      "cell_type": "code",
      "source": [
        "# Print classification report\n",
        "print(\"Classification Report:\")\n",
        "print(classification_report(y_true_classes, y_pred_classes))"
      ],
      "metadata": {
        "colab": {
          "base_uri": "https://localhost:8080/",
          "height": 474
        },
        "id": "k_yiqt6S5mxW",
        "outputId": "1a4a997c-ad77-4d91-b8fe-74543c354d91"
      },
      "execution_count": null,
      "outputs": [
        {
          "output_type": "stream",
          "name": "stdout",
          "text": [
            "Training data shape after reshaping: (64000, 25000, 1)\n",
            "Testing data shape after reshaping: (16000, 25000, 1)\n"
          ]
        },
        {
          "output_type": "stream",
          "name": "stderr",
          "text": [
            "/usr/local/lib/python3.11/dist-packages/keras/src/layers/rnn/bidirectional.py:107: UserWarning: Do not pass an `input_shape`/`input_dim` argument to a layer. When using Sequential models, prefer using an `Input(shape)` object as the first layer in the model instead.\n",
            "  super().__init__(**kwargs)\n"
          ]
        },
        {
          "output_type": "display_data",
          "data": {
            "text/plain": [
              "\u001b[1mModel: \"sequential\"\u001b[0m\n"
            ],
            "text/html": [
              "<pre style=\"white-space:pre;overflow-x:auto;line-height:normal;font-family:Menlo,'DejaVu Sans Mono',consolas,'Courier New',monospace\"><span style=\"font-weight: bold\">Model: \"sequential\"</span>\n",
              "</pre>\n"
            ]
          },
          "metadata": {}
        },
        {
          "output_type": "display_data",
          "data": {
            "text/plain": [
              "┏━━━━━━━━━━━━━━━━━━━━━━━━━━━━━━━━━━━━━━┳━━━━━━━━━━━━━━━━━━━━━━━━━━━━━┳━━━━━━━━━━━━━━━━━┓\n",
              "┃\u001b[1m \u001b[0m\u001b[1mLayer (type)                        \u001b[0m\u001b[1m \u001b[0m┃\u001b[1m \u001b[0m\u001b[1mOutput Shape               \u001b[0m\u001b[1m \u001b[0m┃\u001b[1m \u001b[0m\u001b[1m        Param #\u001b[0m\u001b[1m \u001b[0m┃\n",
              "┡━━━━━━━━━━━━━━━━━━━━━━━━━━━━━━━━━━━━━━╇━━━━━━━━━━━━━━━━━━━━━━━━━━━━━╇━━━━━━━━━━━━━━━━━┩\n",
              "│ bidirectional (\u001b[38;5;33mBidirectional\u001b[0m)        │ (\u001b[38;5;45mNone\u001b[0m, \u001b[38;5;34m25000\u001b[0m, \u001b[38;5;34m128\u001b[0m)          │          \u001b[38;5;34m33,792\u001b[0m │\n",
              "├──────────────────────────────────────┼─────────────────────────────┼─────────────────┤\n",
              "│ batch_normalization                  │ (\u001b[38;5;45mNone\u001b[0m, \u001b[38;5;34m25000\u001b[0m, \u001b[38;5;34m128\u001b[0m)          │             \u001b[38;5;34m512\u001b[0m │\n",
              "│ (\u001b[38;5;33mBatchNormalization\u001b[0m)                 │                             │                 │\n",
              "├──────────────────────────────────────┼─────────────────────────────┼─────────────────┤\n",
              "│ lstm_1 (\u001b[38;5;33mLSTM\u001b[0m)                        │ (\u001b[38;5;45mNone\u001b[0m, \u001b[38;5;34m128\u001b[0m)                 │         \u001b[38;5;34m131,584\u001b[0m │\n",
              "├──────────────────────────────────────┼─────────────────────────────┼─────────────────┤\n",
              "│ batch_normalization_1                │ (\u001b[38;5;45mNone\u001b[0m, \u001b[38;5;34m128\u001b[0m)                 │             \u001b[38;5;34m512\u001b[0m │\n",
              "│ (\u001b[38;5;33mBatchNormalization\u001b[0m)                 │                             │                 │\n",
              "├──────────────────────────────────────┼─────────────────────────────┼─────────────────┤\n",
              "│ dense (\u001b[38;5;33mDense\u001b[0m)                        │ (\u001b[38;5;45mNone\u001b[0m, \u001b[38;5;34m64\u001b[0m)                  │           \u001b[38;5;34m8,256\u001b[0m │\n",
              "├──────────────────────────────────────┼─────────────────────────────┼─────────────────┤\n",
              "│ dropout (\u001b[38;5;33mDropout\u001b[0m)                    │ (\u001b[38;5;45mNone\u001b[0m, \u001b[38;5;34m64\u001b[0m)                  │               \u001b[38;5;34m0\u001b[0m │\n",
              "├──────────────────────────────────────┼─────────────────────────────┼─────────────────┤\n",
              "│ dense_1 (\u001b[38;5;33mDense\u001b[0m)                      │ (\u001b[38;5;45mNone\u001b[0m, \u001b[38;5;34m4\u001b[0m)                   │             \u001b[38;5;34m260\u001b[0m │\n",
              "└──────────────────────────────────────┴─────────────────────────────┴─────────────────┘\n"
            ],
            "text/html": [
              "<pre style=\"white-space:pre;overflow-x:auto;line-height:normal;font-family:Menlo,'DejaVu Sans Mono',consolas,'Courier New',monospace\">┏━━━━━━━━━━━━━━━━━━━━━━━━━━━━━━━━━━━━━━┳━━━━━━━━━━━━━━━━━━━━━━━━━━━━━┳━━━━━━━━━━━━━━━━━┓\n",
              "┃<span style=\"font-weight: bold\"> Layer (type)                         </span>┃<span style=\"font-weight: bold\"> Output Shape                </span>┃<span style=\"font-weight: bold\">         Param # </span>┃\n",
              "┡━━━━━━━━━━━━━━━━━━━━━━━━━━━━━━━━━━━━━━╇━━━━━━━━━━━━━━━━━━━━━━━━━━━━━╇━━━━━━━━━━━━━━━━━┩\n",
              "│ bidirectional (<span style=\"color: #0087ff; text-decoration-color: #0087ff\">Bidirectional</span>)        │ (<span style=\"color: #00d7ff; text-decoration-color: #00d7ff\">None</span>, <span style=\"color: #00af00; text-decoration-color: #00af00\">25000</span>, <span style=\"color: #00af00; text-decoration-color: #00af00\">128</span>)          │          <span style=\"color: #00af00; text-decoration-color: #00af00\">33,792</span> │\n",
              "├──────────────────────────────────────┼─────────────────────────────┼─────────────────┤\n",
              "│ batch_normalization                  │ (<span style=\"color: #00d7ff; text-decoration-color: #00d7ff\">None</span>, <span style=\"color: #00af00; text-decoration-color: #00af00\">25000</span>, <span style=\"color: #00af00; text-decoration-color: #00af00\">128</span>)          │             <span style=\"color: #00af00; text-decoration-color: #00af00\">512</span> │\n",
              "│ (<span style=\"color: #0087ff; text-decoration-color: #0087ff\">BatchNormalization</span>)                 │                             │                 │\n",
              "├──────────────────────────────────────┼─────────────────────────────┼─────────────────┤\n",
              "│ lstm_1 (<span style=\"color: #0087ff; text-decoration-color: #0087ff\">LSTM</span>)                        │ (<span style=\"color: #00d7ff; text-decoration-color: #00d7ff\">None</span>, <span style=\"color: #00af00; text-decoration-color: #00af00\">128</span>)                 │         <span style=\"color: #00af00; text-decoration-color: #00af00\">131,584</span> │\n",
              "├──────────────────────────────────────┼─────────────────────────────┼─────────────────┤\n",
              "│ batch_normalization_1                │ (<span style=\"color: #00d7ff; text-decoration-color: #00d7ff\">None</span>, <span style=\"color: #00af00; text-decoration-color: #00af00\">128</span>)                 │             <span style=\"color: #00af00; text-decoration-color: #00af00\">512</span> │\n",
              "│ (<span style=\"color: #0087ff; text-decoration-color: #0087ff\">BatchNormalization</span>)                 │                             │                 │\n",
              "├──────────────────────────────────────┼─────────────────────────────┼─────────────────┤\n",
              "│ dense (<span style=\"color: #0087ff; text-decoration-color: #0087ff\">Dense</span>)                        │ (<span style=\"color: #00d7ff; text-decoration-color: #00d7ff\">None</span>, <span style=\"color: #00af00; text-decoration-color: #00af00\">64</span>)                  │           <span style=\"color: #00af00; text-decoration-color: #00af00\">8,256</span> │\n",
              "├──────────────────────────────────────┼─────────────────────────────┼─────────────────┤\n",
              "│ dropout (<span style=\"color: #0087ff; text-decoration-color: #0087ff\">Dropout</span>)                    │ (<span style=\"color: #00d7ff; text-decoration-color: #00d7ff\">None</span>, <span style=\"color: #00af00; text-decoration-color: #00af00\">64</span>)                  │               <span style=\"color: #00af00; text-decoration-color: #00af00\">0</span> │\n",
              "├──────────────────────────────────────┼─────────────────────────────┼─────────────────┤\n",
              "│ dense_1 (<span style=\"color: #0087ff; text-decoration-color: #0087ff\">Dense</span>)                      │ (<span style=\"color: #00d7ff; text-decoration-color: #00d7ff\">None</span>, <span style=\"color: #00af00; text-decoration-color: #00af00\">4</span>)                   │             <span style=\"color: #00af00; text-decoration-color: #00af00\">260</span> │\n",
              "└──────────────────────────────────────┴─────────────────────────────┴─────────────────┘\n",
              "</pre>\n"
            ]
          },
          "metadata": {}
        },
        {
          "output_type": "display_data",
          "data": {
            "text/plain": [
              "\u001b[1m Total params: \u001b[0m\u001b[38;5;34m174,916\u001b[0m (683.27 KB)\n"
            ],
            "text/html": [
              "<pre style=\"white-space:pre;overflow-x:auto;line-height:normal;font-family:Menlo,'DejaVu Sans Mono',consolas,'Courier New',monospace\"><span style=\"font-weight: bold\"> Total params: </span><span style=\"color: #00af00; text-decoration-color: #00af00\">174,916</span> (683.27 KB)\n",
              "</pre>\n"
            ]
          },
          "metadata": {}
        },
        {
          "output_type": "display_data",
          "data": {
            "text/plain": [
              "\u001b[1m Trainable params: \u001b[0m\u001b[38;5;34m174,404\u001b[0m (681.27 KB)\n"
            ],
            "text/html": [
              "<pre style=\"white-space:pre;overflow-x:auto;line-height:normal;font-family:Menlo,'DejaVu Sans Mono',consolas,'Courier New',monospace\"><span style=\"font-weight: bold\"> Trainable params: </span><span style=\"color: #00af00; text-decoration-color: #00af00\">174,404</span> (681.27 KB)\n",
              "</pre>\n"
            ]
          },
          "metadata": {}
        },
        {
          "output_type": "display_data",
          "data": {
            "text/plain": [
              "\u001b[1m Non-trainable params: \u001b[0m\u001b[38;5;34m512\u001b[0m (2.00 KB)\n"
            ],
            "text/html": [
              "<pre style=\"white-space:pre;overflow-x:auto;line-height:normal;font-family:Menlo,'DejaVu Sans Mono',consolas,'Courier New',monospace\"><span style=\"font-weight: bold\"> Non-trainable params: </span><span style=\"color: #00af00; text-decoration-color: #00af00\">512</span> (2.00 KB)\n",
              "</pre>\n"
            ]
          },
          "metadata": {}
        }
      ]
    },
    {
      "cell_type": "code",
      "source": [
        "# Save the model\n",
        "model.save('final_das_fiber_optic_model.h5')\n",
        "print(\"Model saved to 'final_das_fiber_optic_model.h5'\")"
      ],
      "metadata": {
        "id": "2tUN7k6G5of8"
      },
      "execution_count": null,
      "outputs": []
    }
  ],
  "metadata": {
    "colab": {
      "provenance": [],
      "gpuType": "V28"
    },
    "kernelspec": {
      "display_name": "Python 3",
      "name": "python3"
    },
    "language_info": {
      "name": "python"
    },
    "accelerator": "TPU"
  },
  "nbformat": 4,
  "nbformat_minor": 0
}